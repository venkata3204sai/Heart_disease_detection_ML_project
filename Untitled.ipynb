{
 "cells": [
  {
   "cell_type": "code",
   "execution_count": null,
   "id": "25f10661-777f-47a0-a5ba-48fe72c308ec",
   "metadata": {},
   "outputs": [],
   "source": []
  }
 ],
 "metadata": {
  "kernelspec": {
   "display_name": "",
   "name": ""
  },
  "language_info": {
   "name": ""
  }
 },
 "nbformat": 4,
 "nbformat_minor": 5
}
